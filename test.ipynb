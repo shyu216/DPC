{
 "cells": [
  {
   "cell_type": "code",
   "execution_count": 1,
   "metadata": {},
   "outputs": [],
   "source": [
    "import torch\n"
   ]
  },
  {
   "cell_type": "code",
   "execution_count": 2,
   "metadata": {},
   "outputs": [
    {
     "data": {
      "text/plain": [
       "tensor([ 0.0460,  1.0073, -0.0578, -0.9420])"
      ]
     },
     "execution_count": 2,
     "metadata": {},
     "output_type": "execute_result"
    }
   ],
   "source": [
    "\n",
    "a = torch.randn(4)\n",
    "a\n"
   ]
  },
  {
   "cell_type": "code",
   "execution_count": 3,
   "metadata": {},
   "outputs": [
    {
     "data": {
      "text/plain": [
       "tensor([10.0460, 11.0073,  9.9422,  9.0580])"
      ]
     },
     "execution_count": 3,
     "metadata": {},
     "output_type": "execute_result"
    }
   ],
   "source": [
    "a.add(10)"
   ]
  },
  {
   "cell_type": "code",
   "execution_count": 4,
   "metadata": {},
   "outputs": [
    {
     "data": {
      "text/plain": [
       "tensor([10.0460, 11.0073,  9.9422,  9.0580])"
      ]
     },
     "execution_count": 4,
     "metadata": {},
     "output_type": "execute_result"
    }
   ],
   "source": [
    "a + 10"
   ]
  },
  {
   "cell_type": "code",
   "execution_count": 5,
   "metadata": {},
   "outputs": [
    {
     "data": {
      "text/plain": [
       "tensor([20.0460, 21.0073, 19.9422, 19.0580])"
      ]
     },
     "execution_count": 5,
     "metadata": {},
     "output_type": "execute_result"
    }
   ],
   "source": [
    "\n",
    "torch.add(a, 20)\n"
   ]
  },
  {
   "cell_type": "code",
   "execution_count": 6,
   "metadata": {},
   "outputs": [
    {
     "data": {
      "text/plain": [
       "tensor([ 1.9038,  0.3293, -0.5187, -0.0831])"
      ]
     },
     "execution_count": 6,
     "metadata": {},
     "output_type": "execute_result"
    }
   ],
   "source": [
    "\n",
    "b = torch.randn(4)\n",
    "b\n"
   ]
  },
  {
   "cell_type": "code",
   "execution_count": 7,
   "metadata": {},
   "outputs": [
    {
     "data": {
      "text/plain": [
       "tensor([[ 0.2040],\n",
       "        [-0.0988],\n",
       "        [-0.3849],\n",
       "        [-1.1460]])"
      ]
     },
     "execution_count": 7,
     "metadata": {},
     "output_type": "execute_result"
    }
   ],
   "source": [
    "\n",
    "c = torch.randn(4, 1)\n",
    "c\n"
   ]
  },
  {
   "cell_type": "code",
   "execution_count": 8,
   "metadata": {},
   "outputs": [
    {
     "data": {
      "text/plain": [
       "tensor([[  3.9438,   2.3693,   1.5214,   1.9570],\n",
       "        [  0.9161,  -0.6584,  -1.5063,  -1.0707],\n",
       "        [ -1.9449,  -3.5194,  -4.3673,  -3.9317],\n",
       "        [ -9.5561, -11.1306, -11.9786, -11.5430]])"
      ]
     },
     "execution_count": 8,
     "metadata": {},
     "output_type": "execute_result"
    }
   ],
   "source": [
    "\n",
    "torch.add(b, c, alpha=10)\n",
    "\n"
   ]
  },
  {
   "cell_type": "code",
   "execution_count": 9,
   "metadata": {},
   "outputs": [
    {
     "data": {
      "text/plain": [
       "tensor([[[[ 8.0421e-02,  1.3259e+00, -2.7006e-01],\n",
       "          [ 1.9684e-01, -2.1261e+00,  1.4051e-01],\n",
       "          [ 5.2404e-01, -8.5610e-01, -2.3880e-01]],\n",
       "\n",
       "         [[ 1.2307e-01,  1.2916e+00, -7.9914e-02],\n",
       "          [ 6.4524e-01, -3.6283e-01, -1.0227e-01],\n",
       "          [-3.1229e-02,  1.1138e+00,  9.0743e-01]],\n",
       "\n",
       "         [[-1.8901e+00,  7.3384e-01,  5.3559e-02],\n",
       "          [ 1.3577e+00,  1.3136e+00, -6.3667e-04],\n",
       "          [ 1.5157e+00,  2.8827e+00, -2.6406e-01]]],\n",
       "\n",
       "\n",
       "        [[[-1.5198e+00, -9.4519e-01,  7.9987e-01],\n",
       "          [-4.3078e-01,  2.4529e+00, -5.3376e-01],\n",
       "          [-4.7262e-01,  2.5982e-01,  3.1526e-01]],\n",
       "\n",
       "         [[ 7.5396e-01,  9.1633e-02, -2.2287e-01],\n",
       "          [ 5.7521e-01, -9.2551e-01,  7.8175e-01],\n",
       "          [ 8.2501e-02, -7.3902e-01, -2.6647e+00]],\n",
       "\n",
       "         [[ 1.0913e+00,  1.6182e+00, -1.5155e+00],\n",
       "          [-4.3511e-01,  1.1537e+00,  8.8978e-01],\n",
       "          [-5.6238e-01, -1.2073e+00,  2.6020e-01]]]])"
      ]
     },
     "execution_count": 9,
     "metadata": {},
     "output_type": "execute_result"
    }
   ],
   "source": [
    "\n",
    "x = torch.randn(2, 3,3,3)\n",
    "x\n"
   ]
  },
  {
   "cell_type": "code",
   "execution_count": 10,
   "metadata": {},
   "outputs": [
    {
     "data": {
      "text/plain": [
       "tensor([[[[ 8.0421e-02,  1.3259e+00, -2.7006e-01],\n",
       "          [ 1.9684e-01, -2.1261e+00,  1.4051e-01],\n",
       "          [ 5.2404e-01, -8.5610e-01, -2.3880e-01]],\n",
       "\n",
       "         [[ 1.2307e-01,  1.2916e+00, -7.9914e-02],\n",
       "          [ 6.4524e-01, -3.6283e-01, -1.0227e-01],\n",
       "          [-3.1229e-02,  1.1138e+00,  9.0743e-01]],\n",
       "\n",
       "         [[-1.8901e+00,  7.3384e-01,  5.3559e-02],\n",
       "          [ 1.3577e+00,  1.3136e+00, -6.3667e-04],\n",
       "          [ 1.5157e+00,  2.8827e+00, -2.6406e-01]]],\n",
       "\n",
       "\n",
       "        [[[-1.5198e+00, -9.4519e-01,  7.9987e-01],\n",
       "          [-4.3078e-01,  2.4529e+00, -5.3376e-01],\n",
       "          [-4.7262e-01,  2.5982e-01,  3.1526e-01]],\n",
       "\n",
       "         [[ 7.5396e-01,  9.1633e-02, -2.2287e-01],\n",
       "          [ 5.7521e-01, -9.2551e-01,  7.8175e-01],\n",
       "          [ 8.2501e-02, -7.3902e-01, -2.6647e+00]],\n",
       "\n",
       "         [[ 1.0913e+00,  1.6182e+00, -1.5155e+00],\n",
       "          [-4.3511e-01,  1.1537e+00,  8.8978e-01],\n",
       "          [-5.6238e-01, -1.2073e+00,  2.6020e-01]]],\n",
       "\n",
       "\n",
       "        [[[ 8.0421e-02,  1.3259e+00, -2.7006e-01],\n",
       "          [ 1.9684e-01, -2.1261e+00,  1.4051e-01],\n",
       "          [ 5.2404e-01, -8.5610e-01, -2.3880e-01]],\n",
       "\n",
       "         [[ 1.2307e-01,  1.2916e+00, -7.9914e-02],\n",
       "          [ 6.4524e-01, -3.6283e-01, -1.0227e-01],\n",
       "          [-3.1229e-02,  1.1138e+00,  9.0743e-01]],\n",
       "\n",
       "         [[-1.8901e+00,  7.3384e-01,  5.3559e-02],\n",
       "          [ 1.3577e+00,  1.3136e+00, -6.3667e-04],\n",
       "          [ 1.5157e+00,  2.8827e+00, -2.6406e-01]]],\n",
       "\n",
       "\n",
       "        [[[-1.5198e+00, -9.4519e-01,  7.9987e-01],\n",
       "          [-4.3078e-01,  2.4529e+00, -5.3376e-01],\n",
       "          [-4.7262e-01,  2.5982e-01,  3.1526e-01]],\n",
       "\n",
       "         [[ 7.5396e-01,  9.1633e-02, -2.2287e-01],\n",
       "          [ 5.7521e-01, -9.2551e-01,  7.8175e-01],\n",
       "          [ 8.2501e-02, -7.3902e-01, -2.6647e+00]],\n",
       "\n",
       "         [[ 1.0913e+00,  1.6182e+00, -1.5155e+00],\n",
       "          [-4.3511e-01,  1.1537e+00,  8.8978e-01],\n",
       "          [-5.6238e-01, -1.2073e+00,  2.6020e-01]]],\n",
       "\n",
       "\n",
       "        [[[ 8.0421e-02,  1.3259e+00, -2.7006e-01],\n",
       "          [ 1.9684e-01, -2.1261e+00,  1.4051e-01],\n",
       "          [ 5.2404e-01, -8.5610e-01, -2.3880e-01]],\n",
       "\n",
       "         [[ 1.2307e-01,  1.2916e+00, -7.9914e-02],\n",
       "          [ 6.4524e-01, -3.6283e-01, -1.0227e-01],\n",
       "          [-3.1229e-02,  1.1138e+00,  9.0743e-01]],\n",
       "\n",
       "         [[-1.8901e+00,  7.3384e-01,  5.3559e-02],\n",
       "          [ 1.3577e+00,  1.3136e+00, -6.3667e-04],\n",
       "          [ 1.5157e+00,  2.8827e+00, -2.6406e-01]]],\n",
       "\n",
       "\n",
       "        [[[-1.5198e+00, -9.4519e-01,  7.9987e-01],\n",
       "          [-4.3078e-01,  2.4529e+00, -5.3376e-01],\n",
       "          [-4.7262e-01,  2.5982e-01,  3.1526e-01]],\n",
       "\n",
       "         [[ 7.5396e-01,  9.1633e-02, -2.2287e-01],\n",
       "          [ 5.7521e-01, -9.2551e-01,  7.8175e-01],\n",
       "          [ 8.2501e-02, -7.3902e-01, -2.6647e+00]],\n",
       "\n",
       "         [[ 1.0913e+00,  1.6182e+00, -1.5155e+00],\n",
       "          [-4.3511e-01,  1.1537e+00,  8.8978e-01],\n",
       "          [-5.6238e-01, -1.2073e+00,  2.6020e-01]]]])"
      ]
     },
     "execution_count": 10,
     "metadata": {},
     "output_type": "execute_result"
    }
   ],
   "source": [
    "\n",
    "torch.cat((x, x, x), 0)\n"
   ]
  },
  {
   "cell_type": "code",
   "execution_count": 11,
   "metadata": {},
   "outputs": [
    {
     "data": {
      "text/plain": [
       "torch.Size([2, 3, 3, 3])"
      ]
     },
     "execution_count": 11,
     "metadata": {},
     "output_type": "execute_result"
    }
   ],
   "source": [
    "x.size()"
   ]
  },
  {
   "cell_type": "code",
   "execution_count": 16,
   "metadata": {},
   "outputs": [
    {
     "ename": "IndexError",
     "evalue": "Dimension out of range (expected to be in range of [-4, 3], but got 4)",
     "output_type": "error",
     "traceback": [
      "\u001b[1;31m---------------------------------------------------------------------------\u001b[0m",
      "\u001b[1;31mIndexError\u001b[0m                                Traceback (most recent call last)",
      "\u001b[1;32m~\\AppData\\Local\\Temp\\ipykernel_18152\\2119720193.py\u001b[0m in \u001b[0;36m<module>\u001b[1;34m\u001b[0m\n\u001b[1;32m----> 1\u001b[1;33m \u001b[0mc\u001b[0m\u001b[1;33m=\u001b[0m\u001b[0mtorch\u001b[0m\u001b[1;33m.\u001b[0m\u001b[0mcat\u001b[0m\u001b[1;33m(\u001b[0m\u001b[1;33m(\u001b[0m\u001b[0mx\u001b[0m\u001b[1;33m,\u001b[0m\u001b[0mx\u001b[0m\u001b[1;33m)\u001b[0m\u001b[1;33m,\u001b[0m \u001b[1;36m4\u001b[0m\u001b[1;33m)\u001b[0m\u001b[1;33m\u001b[0m\u001b[1;33m\u001b[0m\u001b[0m\n\u001b[0m\u001b[0;32m      2\u001b[0m \u001b[0mc\u001b[0m\u001b[1;33m.\u001b[0m\u001b[0msize\u001b[0m\u001b[1;33m(\u001b[0m\u001b[1;33m)\u001b[0m\u001b[1;33m\u001b[0m\u001b[1;33m\u001b[0m\u001b[0m\n",
      "\u001b[1;31mIndexError\u001b[0m: Dimension out of range (expected to be in range of [-4, 3], but got 4)"
     ]
    }
   ],
   "source": [
    "\n",
    "c=torch.cat((x,x), 4)\n",
    "c.size()"
   ]
  },
  {
   "cell_type": "code",
   "execution_count": null,
   "metadata": {},
   "outputs": [
    {
     "data": {
      "text/plain": [
       "torch.Size([2, 9, 3, 3])"
      ]
     },
     "execution_count": 26,
     "metadata": {},
     "output_type": "execute_result"
    }
   ],
   "source": [
    "c.size()"
   ]
  }
 ],
 "metadata": {
  "kernelspec": {
   "display_name": "Python 3.7.13 ('pcdet')",
   "language": "python",
   "name": "python3"
  },
  "language_info": {
   "codemirror_mode": {
    "name": "ipython",
    "version": 3
   },
   "file_extension": ".py",
   "mimetype": "text/x-python",
   "name": "python",
   "nbconvert_exporter": "python",
   "pygments_lexer": "ipython3",
   "version": "3.7.13"
  },
  "orig_nbformat": 4,
  "vscode": {
   "interpreter": {
    "hash": "043c110c088b0a42fc642d7ee55a9abc6bc17ce027452c4e415a079ada1e60e6"
   }
  }
 },
 "nbformat": 4,
 "nbformat_minor": 2
}
